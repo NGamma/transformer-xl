{
 "cells": [
  {
   "cell_type": "code",
   "execution_count": 12,
   "metadata": {},
   "outputs": [],
   "source": [
    "import torch\n",
    "import argparse\n",
    "import math\n",
    "import os\n",
    "import tqdm\n",
    "\n",
    "\n",
    "work_dir = '/tmp/txl-05-12_23-33-51'\n",
    "device = torch.device('cuda' if torch.cuda.is_available() else 'cpu')\n",
    "\n",
    "# Load the best saved model.\n",
    "with open(os.path.join(work_dir, 'model-best.pt'), 'rb') as f:\n",
    "    model = torch.load(f)\n",
    "\n",
    "model = model.to(device)\n",
    "_ = model.eval()"
   ]
  },
  {
   "cell_type": "code",
   "execution_count": 6,
   "metadata": {},
   "outputs": [],
   "source": [
    "from pytorch_pretrained_bert import GPT2Tokenizer\n",
    "tokenizer = GPT2Tokenizer.from_pretrained('gpt2')"
   ]
  },
  {
   "cell_type": "code",
   "execution_count": 8,
   "metadata": {},
   "outputs": [
    {
     "name": "stdout",
     "output_type": "stream",
     "text": [
      "[198]\n"
     ]
    }
   ],
   "source": [
    "NL = tokenizer.encode('\\n')\n",
    "print(NL)"
   ]
  },
  {
   "cell_type": "code",
   "execution_count": 26,
   "metadata": {},
   "outputs": [
    {
     "name": "stdout",
     "output_type": "stream",
     "text": [
      "torch.Size([70, 1, 500]) 25.866165161132812 0.0007390332757495344\n"
     ]
    }
   ],
   "source": [
    "data = torch.tensor(NL*70)\n",
    "# Turn into a batch\n",
    "data.unsqueeze_(1)\n",
    "mems = model.init_mems()\n",
    "\n",
    "tgt_len = data.size(0)\n",
    "hidden, new_mems = model._forward(data, mems=mems)\n",
    "pred_hid = hidden[-tgt_len:]\n",
    "print(hidden.shape, torch.sum(hidden).item(), torch.mean(hidden).item())\n"
   ]
  },
  {
   "cell_type": "code",
   "execution_count": 37,
   "metadata": {},
   "outputs": [
    {
     "name": "stdout",
     "output_type": "stream",
     "text": [
      "torch.Size([70, 1, 50257]) 0.9999994039535522\n"
     ]
    }
   ],
   "source": [
    "import torch.nn.functional as F\n",
    "\n",
    "def hidden_to_softmax(model, hidden):\n",
    "    \"\"\"Turn a hidden projection into log softmax.\n",
    "    \n",
    "    Adapted from utils/proj_adaptive_softmax.py\n",
    "    \"\"\"\n",
    "    self = model.crit\n",
    "    logit = self._compute_logit(hidden, self.out_layers[0].weight,\n",
    "                                            self.out_layers[0].bias, self.out_projs[0])\n",
    "    softmax = F.softmax(logit, dim=-1)\n",
    "    return softmax\n",
    "\n",
    "softmax = hidden_to_softmax(model, pred_hid)\n",
    "print(softmax.shape, softmax[0].sum().item())"
   ]
  },
  {
   "cell_type": "code",
   "execution_count": null,
   "metadata": {},
   "outputs": [],
   "source": [
    "## Grab a sample from the last frame, append to result list, append to `data`\n",
    "## Run through again\n",
    "## Decode results from result list"
   ]
  }
 ],
 "metadata": {
  "kernelspec": {
   "display_name": "Python 3",
   "language": "python",
   "name": "python3"
  },
  "language_info": {
   "codemirror_mode": {
    "name": "ipython",
    "version": 3
   },
   "file_extension": ".py",
   "mimetype": "text/x-python",
   "name": "python",
   "nbconvert_exporter": "python",
   "pygments_lexer": "ipython3",
   "version": "3.7.1"
  }
 },
 "nbformat": 4,
 "nbformat_minor": 2
}
