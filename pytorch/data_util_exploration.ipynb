{
 "cells": [
  {
   "cell_type": "code",
   "execution_count": 4,
   "metadata": {},
   "outputs": [],
   "source": [
    "from data_utils import LMOrderedIterator\n",
    "import torch"
   ]
  },
  {
   "cell_type": "code",
   "execution_count": 89,
   "metadata": {},
   "outputs": [
    {
     "name": "stdout",
     "output_type": "stream",
     "text": [
      "torch.Size([33, 3])\n",
      "tensor([ 0, 33, 66])\n"
     ]
    }
   ],
   "source": [
    "it = LMOrderedIterator(torch.tensor(range(100)), bsz=3, bptt=5)\n",
    "print(it.data.shape)\n",
    "print(it.data[0])"
   ]
  },
  {
   "cell_type": "code",
   "execution_count": 90,
   "metadata": {},
   "outputs": [
    {
     "data": {
      "text/plain": [
       "torch.Size([99])"
      ]
     },
     "execution_count": 90,
     "metadata": {},
     "output_type": "execute_result"
    }
   ],
   "source": [
    "it.data.view(-1).shape"
   ]
  },
  {
   "cell_type": "code",
   "execution_count": 24,
   "metadata": {},
   "outputs": [
    {
     "name": "stdout",
     "output_type": "stream",
     "text": [
      "torch.Size([5, 3]) 5\n",
      "tensor([0, 1, 2, 3, 4])\n",
      "tensor([1, 2, 3, 4, 5])\n"
     ]
    }
   ],
   "source": [
    "data, target, seq_len = it.get_batch(0)\n",
    "print(data.shape, seq_len)\n",
    "print(data[:, 0])\n",
    "print(target[:, 0])"
   ]
  },
  {
   "cell_type": "code",
   "execution_count": 107,
   "metadata": {},
   "outputs": [
    {
     "name": "stdout",
     "output_type": "stream",
     "text": [
      "tensor([0, 1, 2, 3, 4]) \t tensor([66, 67, 68, 69, 70])\n",
      "tensor([5, 6, 7, 8, 9]) \t tensor([71, 72, 73, 74, 75])\n",
      "tensor([10, 11, 12, 13, 14]) \t tensor([76, 77, 78, 79, 80])\n",
      "tensor([15, 16, 17, 18, 19]) \t tensor([81, 82, 83, 84, 85])\n",
      "tensor([20, 21, 22, 23, 24]) \t tensor([86, 87, 88, 89, 90])\n",
      "tensor([25, 26, 27, 28, 29]) \t tensor([91, 92, 93, 94, 95])\n",
      "tensor([30, 31]) \t tensor([96, 97])\n",
      "7\n"
     ]
    }
   ],
   "source": [
    "# What do consecutive batches look like?\n",
    "def test_print(i):\n",
    "    for data, target, seq in i:\n",
    "        # First and last item of each batch\n",
    "        print(data[:,0], '\\t', data[:,-1])\n",
    "test_print(iter(it))\n",
    "print(len(list(iter(it))))"
   ]
  },
  {
   "cell_type": "code",
   "execution_count": 105,
   "metadata": {},
   "outputs": [
    {
     "name": "stdout",
     "output_type": "stream",
     "text": [
      "** rank 0 **\n",
      "tensor([0, 1, 2, 3, 4]) \t tensor([66, 67, 68, 69, 70])\n",
      "tensor([5, 6, 7, 8, 9]) \t tensor([71, 72, 73, 74, 75])\n",
      "tensor([10, 11, 12, 13, 14]) \t tensor([76, 77, 78, 79, 80])\n",
      "tensor([15, 16, 17, 18, 19]) \t tensor([81, 82, 83, 84, 85])\n",
      "4\n",
      "** rank 1 **\n",
      "tensor([16, 17, 18, 19, 20]) \t tensor([82, 83, 84, 85, 86])\n",
      "tensor([21, 22, 23, 24, 25]) \t tensor([87, 88, 89, 90, 91])\n",
      "tensor([26, 27, 28, 29, 30]) \t tensor([92, 93, 94, 95, 96])\n",
      "tensor([31]) \t tensor([97])\n",
      "4\n"
     ]
    }
   ],
   "source": [
    "def test_dist(it):\n",
    "    for i in range(2):\n",
    "        print(f'** rank {i} **')\n",
    "        test_print(it.get_dist_iter(rank=i, max_rank=2))\n",
    "        print(len(list(it.get_dist_iter(rank=i, max_rank=2))))\n",
    "test_dist(it)"
   ]
  },
  {
   "cell_type": "code",
   "execution_count": 81,
   "metadata": {},
   "outputs": [
    {
     "name": "stdout",
     "output_type": "stream",
     "text": [
      "** rank 0 **\n",
      "tensor([0, 1, 2, 3, 4]) \t tensor([66, 67, 68, 69, 70])\n",
      "tensor([5, 6, 7, 8, 9]) \t tensor([71, 72, 73, 74, 75])\n",
      "tensor([10, 11, 12, 13, 14]) \t tensor([76, 77, 78, 79, 80])\n",
      "tensor([15, 16, 17, 18, 19]) \t tensor([81, 82, 83, 84, 85])\n",
      "** rank 1 **\n",
      "tensor([16, 17, 18, 19, 20]) \t tensor([82, 83, 84, 85, 86])\n",
      "tensor([21, 22, 23, 24, 25]) \t tensor([87, 88, 89, 90, 91])\n",
      "tensor([26, 27, 28, 29, 30]) \t tensor([92, 93, 94, 95, 96])\n",
      "tensor([31]) \t tensor([97])\n"
     ]
    }
   ],
   "source": [
    "#  for i in range(start, self.data.size(0) - 1, self.bptt):\n",
    "#      yield self.get_batch(i)\n",
    "\n",
    "def get_dist_iter(self, rank, max_rank, start=0):\n",
    "    chunk_len = self.data.size(0) // max_rank\n",
    "\n",
    "    for i in range(start, chunk_len, self.bptt):\n",
    "        yield self.get_batch(i + (rank * chunk_len))\n",
    "\n",
    "def test_dist(it, f):\n",
    "    for i in range(2):\n",
    "        print(f'** rank {i} **')\n",
    "        test_print(f(it, rank=i, max_rank=2))\n",
    "test_dist(it, get_dist_iter)"
   ]
  },
  {
   "cell_type": "code",
   "execution_count": 85,
   "metadata": {},
   "outputs": [
    {
     "name": "stdout",
     "output_type": "stream",
     "text": [
      "0\n",
      "tensor([0, 1, 2, 3, 4]) \t tensor([32, 33, 34, 35, 36])\n",
      "tensor([5, 6, 7, 8, 9]) \t tensor([37, 38, 39, 40, 41])\n",
      "tensor([10, 11, 12, 13, 14]) \t tensor([42, 43, 44, 45, 46])\n",
      "1\n",
      "tensor([50, 51, 52, 53, 54]) \t tensor([82, 83, 84, 85, 86])\n",
      "tensor([55, 56, 57, 58, 59]) \t tensor([87, 88, 89, 90, 91])\n",
      "tensor([60, 61, 62, 63, 64]) \t tensor([92, 93, 94, 95, 96])\n"
     ]
    }
   ],
   "source": [
    "its = (LMOrderedIterator(torch.tensor(range(50)), bsz=3, bptt=5),\n",
    "    LMOrderedIterator(torch.tensor(range(50,100)), bsz=3, bptt=5))\n",
    "for i, it in enumerate(its):\n",
    "    print(i)\n",
    "    test_print(it)"
   ]
  },
  {
   "cell_type": "code",
   "execution_count": 93,
   "metadata": {},
   "outputs": [
    {
     "data": {
      "text/plain": [
       "1"
      ]
     },
     "execution_count": 93,
     "metadata": {},
     "output_type": "execute_result"
    }
   ],
   "source": [
    "class O:\n",
    "    def __init__(self, a):\n",
    "        self.a = a\n",
    "        \n",
    "a = O(1)\n",
    "a.__getattribute__('a')"
   ]
  },
  {
   "cell_type": "code",
   "execution_count": 101,
   "metadata": {},
   "outputs": [],
   "source": [
    "from data_utils import Corpus\n",
    "class FakeCorpus(Corpus):\n",
    "    def __init__(self, data):\n",
    "        self.train = torch.tensor(data)\n",
    "        self.valid = torch.tensor(data)\n",
    "        self.test = torch.tensor(data)\n",
    "        self.dataset='wt103'\n",
    "    \n",
    "    def get_dist_iterator(self, split, rank, max_rank, *args, **kwargs):\n",
    "        if self.dataset == 'lm1b':\n",
    "            raise NotImplementedError('See get_iterator')\n",
    "        data = self.__getattribute__(split)\n",
    "        chunk_size = data.size(0) // max_rank\n",
    "        return LMOrderedIterator(data[rank * chunk_size:(rank+1) * chunk_size], *args, **kwargs)\n",
    "\n",
    "a = FakeCorpus(range(100))"
   ]
  },
  {
   "cell_type": "code",
   "execution_count": 97,
   "metadata": {},
   "outputs": [
    {
     "name": "stdout",
     "output_type": "stream",
     "text": [
      "tensor([0, 1, 2, 3, 4]) \t tensor([66, 67, 68, 69, 70])\n",
      "tensor([5, 6, 7, 8, 9]) \t tensor([71, 72, 73, 74, 75])\n",
      "tensor([10, 11, 12, 13, 14]) \t tensor([76, 77, 78, 79, 80])\n",
      "tensor([15, 16, 17, 18, 19]) \t tensor([81, 82, 83, 84, 85])\n",
      "tensor([20, 21, 22, 23, 24]) \t tensor([86, 87, 88, 89, 90])\n",
      "tensor([25, 26, 27, 28, 29]) \t tensor([91, 92, 93, 94, 95])\n",
      "tensor([30, 31]) \t tensor([96, 97])\n"
     ]
    }
   ],
   "source": [
    "test_print(a.get_iterator(split='train', bsz=3, bptt=5))"
   ]
  },
  {
   "cell_type": "code",
   "execution_count": 103,
   "metadata": {},
   "outputs": [
    {
     "name": "stdout",
     "output_type": "stream",
     "text": [
      "0\n",
      "tensor([0, 1, 2, 3, 4]) \t tensor([32, 33, 34, 35, 36])\n",
      "tensor([5, 6, 7, 8, 9]) \t tensor([37, 38, 39, 40, 41])\n",
      "tensor([10, 11, 12, 13, 14]) \t tensor([42, 43, 44, 45, 46])\n",
      "1\n",
      "tensor([50, 51, 52, 53, 54]) \t tensor([82, 83, 84, 85, 86])\n",
      "tensor([55, 56, 57, 58, 59]) \t tensor([87, 88, 89, 90, 91])\n",
      "tensor([60, 61, 62, 63, 64]) \t tensor([92, 93, 94, 95, 96])\n"
     ]
    }
   ],
   "source": [
    "for i in range(2):\n",
    "    print(i)\n",
    "    test_print(a.get_dist_iterator(split='train', rank=i, max_rank=2, bsz=3, bptt=5))"
   ]
  }
 ],
 "metadata": {
  "kernelspec": {
   "display_name": "Python 3",
   "language": "python",
   "name": "python3"
  },
  "language_info": {
   "codemirror_mode": {
    "name": "ipython",
    "version": 3
   },
   "file_extension": ".py",
   "mimetype": "text/x-python",
   "name": "python",
   "nbconvert_exporter": "python",
   "pygments_lexer": "ipython3",
   "version": "3.7.1"
  }
 },
 "nbformat": 4,
 "nbformat_minor": 2
}
